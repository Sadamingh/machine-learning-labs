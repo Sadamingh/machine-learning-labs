{
 "cells": [
  {
   "cell_type": "markdown",
   "metadata": {},
   "source": [
    "# 词性标注POS标签及单词分组1"
   ]
  },
  {
   "cell_type": "markdown",
   "metadata": {},
   "source": [
    "机器学习中很多时候都要跟自然语言文本打交道，而自然语言文本是unstructured dat，并且经常会有很多的\"噪音\"，所以尽可能从文本中提取出关键信息是提升模型质量的一个关键。这里介绍一种基于POS(Part-of-Speech)标签和单词分组的提取方法，可以有效的从文本中提取出关键信息。"
   ]
  },
  {
   "cell_type": "markdown",
   "metadata": {},
   "source": [
    "## POS tagging\n",
    "\n",
    "POS(part-of-speech)又名词性标注，它会根据上下文对单词打上词性标签。 英文中单词主要有8种词性—名词nouns, 动词verbs, 形容词adjectives, 代词pronouns, 副词adverbs, 连词conjunctions, 介词prepositions和感叹词interjections. \n",
    "\n",
    "NLTK中提供了POS标签功能，它是一种有监督的机器学习算法，根据前后词，首字母是否大写等语境情况来判断词性。 POS需要在完成分词(word tokenization)后进行， NLTK库中都提供了分词功能，NLTK中也提供了不同标签的说明文档"
   ]
  },
  {
   "cell_type": "code",
   "execution_count": 23,
   "metadata": {},
   "outputs": [],
   "source": [
    "import nltk\n",
    "from IPython.display import display"
   ]
  },
  {
   "cell_type": "code",
   "execution_count": 2,
   "metadata": {},
   "outputs": [
    {
     "data": {
      "text/plain": [
       "['The', 'sailor', 'dogs', 'the', 'hatch']"
      ]
     },
     "execution_count": 2,
     "metadata": {},
     "output_type": "execute_result"
    }
   ],
   "source": [
    "tokens = nltk.word_tokenize(\"The sailor dogs the hatch\")\n",
    "tokens"
   ]
  },
  {
   "cell_type": "code",
   "execution_count": 3,
   "metadata": {},
   "outputs": [
    {
     "name": "stdout",
     "output_type": "stream",
     "text": [
      "[('The', 'DT'), ('sailor', 'NN'), ('dogs', 'VBZ'), ('the', 'DT'), ('hatch', 'NN')]\n"
     ]
    }
   ],
   "source": [
    "print(nltk.tag.pos_tag(tokens))"
   ]
  },
  {
   "cell_type": "markdown",
   "metadata": {},
   "source": [
    "dog在一般情况下都是名词，但在上面的例子中却是动词，这时就体现出机器学习方法的优势了，可以更为准确的区分出不同语境情况下的单词词性了。"
   ]
  },
  {
   "cell_type": "code",
   "execution_count": 4,
   "metadata": {},
   "outputs": [
    {
     "name": "stdout",
     "output_type": "stream",
     "text": [
      "VBZ: verb, present tense, 3rd person singular\n",
      "    bases reconstructs marks mixes displeases seals carps weaves snatches\n",
      "    slumps stretches authorizes smolders pictures emerges stockpiles\n",
      "    seduces fizzes uses bolsters slaps speaks pleads ...\n"
     ]
    }
   ],
   "source": [
    "nltk.help.upenn_tagset(\"VBZ\")"
   ]
  },
  {
   "cell_type": "code",
   "execution_count": 5,
   "metadata": {},
   "outputs": [
    {
     "name": "stdout",
     "output_type": "stream",
     "text": [
      "NN: noun, common, singular or mass\n",
      "    common-carrier cabbage knuckle-duster Casino afghan shed thermostat\n",
      "    investment slide humour falloff slick wind hyena override subhumanity\n",
      "    machinist ...\n"
     ]
    }
   ],
   "source": [
    "nltk.help.upenn_tagset(\"NN\")"
   ]
  },
  {
   "cell_type": "code",
   "execution_count": 6,
   "metadata": {},
   "outputs": [
    {
     "name": "stdout",
     "output_type": "stream",
     "text": [
      "JJ: adjective or numeral, ordinal\n",
      "    third ill-mannered pre-war regrettable oiled calamitous first separable\n",
      "    ectoplasmic battery-powered participatory fourth still-to-be-named\n",
      "    multilingual multi-disciplinary ...\n"
     ]
    }
   ],
   "source": [
    "nltk.help.upenn_tagset(\"JJ\")"
   ]
  },
  {
   "cell_type": "markdown",
   "metadata": {},
   "source": [
    "## Chunking\n",
    "Chunking就是从非结构下的文本中提取出词组，把文本分成一个个小的块。比如\"brown fox\"，与其把\"brown\"和\"fox\"分成两个单词，\"brow fox\"这个词组包含更为重要的信息，最好是把它们放在一起， 这时可以基于POS标签来做Chunking， NLTK中提供了一种基于正则表达式的Chunking方法。\n",
    "\n",
    "如果想提取出文本中包含名词的词组，可以设计一个正则表达式，它包含0或1个限定词DT，0个或多个形空词JJ以及一个名词NN。下面来看实现细节"
   ]
  },
  {
   "cell_type": "code",
   "execution_count": 63,
   "metadata": {},
   "outputs": [],
   "source": [
    "sent = \"the little yellow dog barked at the cat\"\n",
    "tokens = nltk.word_tokenize(sent)\n",
    "#Define your grammar using regular expressions\n",
    "grammar = ('''\n",
    "    NP: {<DT>?<JJ>*<NN>} # Noun Phrases\n",
    "    ''')\n",
    "\n",
    "cp = nltk.RegexpParser(grammar)"
   ]
  },
  {
   "cell_type": "code",
   "execution_count": 64,
   "metadata": {},
   "outputs": [],
   "source": [
    "def extract_np(psent):\n",
    "  for subtree in psent.subtrees():\n",
    "    if subtree.label() == 'NP':\n",
    "      yield ' '.join(word for word, tag in subtree.leaves())"
   ]
  },
  {
   "cell_type": "code",
   "execution_count": 65,
   "metadata": {},
   "outputs": [
    {
     "name": "stdout",
     "output_type": "stream",
     "text": [
      "[('the', 'DT'), ('little', 'JJ'), ('yellow', 'JJ'), ('dog', 'NN'), ('barked', 'VBD'), ('at', 'IN'), ('the', 'DT'), ('cat', 'NN')]\n"
     ]
    }
   ],
   "source": [
    "ptokens =nltk.tag.pos_tag(tokens)\n",
    "psent = cp.parse(ptokens)\n",
    "print(ptokens)"
   ]
  },
  {
   "cell_type": "code",
   "execution_count": 66,
   "metadata": {},
   "outputs": [
    {
     "data": {
      "text/plain": [
       "['the little yellow dog', 'the cat']"
      ]
     },
     "execution_count": 66,
     "metadata": {},
     "output_type": "execute_result"
    }
   ],
   "source": [
    "[npstr for npstr in extract_np(psent)]"
   ]
  },
  {
   "cell_type": "code",
   "execution_count": 67,
   "metadata": {},
   "outputs": [
    {
     "data": {
      "image/png": "[encoded data removed]",
      "text/plain": [
       "Tree('S', [Tree('NP', [('the', 'DT'), ('little', 'JJ'), ('yellow', 'JJ'), ('dog', 'NN')]), ('barked', 'VBD'), ('at', 'IN'), Tree('NP', [('the', 'DT'), ('cat', 'NN')])])"
      ]
     },
     "metadata": {},
     "output_type": "display_data"
    }
   ],
   "source": [
    "display(psent)"
   ]
  },
  {
   "cell_type": "markdown",
   "metadata": {},
   "source": [
    "这个正则表达式提取出了\"the little yellow dog\"和\"the cat\"两个词组。表达式可以有多种组合，主要是要使用好正则表达符，最常用的是下面这些正则符号，更多的可以参考Python的[说明文档](https://docs.python.org/3/library/re.html)\n",
    "\n",
    "|         |            | \n",
    "| ------------- |:-------------:| \n",
    "| \\*  | 0或多次重复前面的RE(A regular expression) |\n",
    "| ?   | 0或1次重复前面的RE |\n",
    "| +\t  | 1或多次重复前面的RE |\n"
   ]
  },
  {
   "cell_type": "markdown",
   "metadata": {},
   "source": [
    "## Chinking\n",
    "\n",
    "Chink用来表示不希望包含在chunk中的tokens， NLTK提供的RegexpParser接受的正则表达式中，\n",
    "    { … } 表示chunk的模式\n",
    "    } … { 表示chink的模式"
   ]
  },
  {
   "cell_type": "code",
   "execution_count": 68,
   "metadata": {},
   "outputs": [],
   "source": [
    "grammar = ('''\n",
    "    NP: {<.*>+}      # Chunk everything\n",
    "    }<VBD|IN>+{      # Chink sequences of VBD and IN\n",
    "    ''')\n",
    "\n",
    "cp = nltk.RegexpParser(grammar)"
   ]
  },
  {
   "cell_type": "code",
   "execution_count": 69,
   "metadata": {},
   "outputs": [
    {
     "data": {
      "text/plain": [
       "['the little yellow dog', 'the cat']"
      ]
     },
     "execution_count": 69,
     "metadata": {},
     "output_type": "execute_result"
    }
   ],
   "source": [
    "psent = cp.parse(ptokens)\n",
    "[npstr for npstr in extract_np(psent)]"
   ]
  },
  {
   "cell_type": "markdown",
   "metadata": {},
   "source": [
    "## Splitter and Merger\n",
    "除了Chunking和Chinking，还可以根据tag来进行拆分和合并操作。注意在RegexParser中，条款是顺序执行的，下一个条款的输入是上一个的输出。可以使用<.*>来输入整句或者先做完chunking和chinking后再输入到splitter和merger中"
   ]
  },
  {
   "cell_type": "code",
   "execution_count": 98,
   "metadata": {},
   "outputs": [],
   "source": [
    "grammar = ('''\n",
    "    NP:\n",
    "        {<.*>+}                 # Chunk everything\n",
    "        }<VBD|IN>+{             # Chink sequences of VBD and IN\n",
    "        <JJ|DT>}{<NN.*>         # split a chunk at a determiner\n",
    "\n",
    "      ''')\n",
    "cp = nltk.RegexpParser(grammar)"
   ]
  },
  {
   "cell_type": "code",
   "execution_count": 99,
   "metadata": {},
   "outputs": [
    {
     "data": {
      "text/plain": [
       "['the little yellow', 'dog', 'the', 'cat']"
      ]
     },
     "execution_count": 99,
     "metadata": {},
     "output_type": "execute_result"
    }
   ],
   "source": [
    "psent = cp.parse(ptokens)\n",
    "[npstr for npstr in extract_np(psent)]"
   ]
  },
  {
   "cell_type": "code",
   "execution_count": 100,
   "metadata": {},
   "outputs": [],
   "source": [
    "grammar = ('''\n",
    "    NP:\n",
    "        {<.*>+}      # Chunk everything\n",
    "        }<VBD|IN>+{      # Chink sequences of VBD and IN\n",
    "        <JJ|DT>}{<NN.*>         # split a chunk at a determiner\n",
    "        <DT|JJ>{}<NN.*>    # merge chunk ending with det/adj\n",
    "      ''')\n",
    "cp = nltk.RegexpParser(grammar)"
   ]
  },
  {
   "cell_type": "code",
   "execution_count": 101,
   "metadata": {},
   "outputs": [
    {
     "data": {
      "text/plain": [
       "['the little yellow dog', 'the cat']"
      ]
     },
     "execution_count": 101,
     "metadata": {},
     "output_type": "execute_result"
    }
   ],
   "source": [
    "psent = cp.parse(ptokens)\n",
    "[npstr for npstr in extract_np(psent)]"
   ]
  },
  {
   "cell_type": "code",
   "execution_count": 102,
   "metadata": {},
   "outputs": [],
   "source": [
    "grammar = ('''\n",
    "    NP:\n",
    "        {<.*>+}             # Chunk everything\n",
    "        }<VBD|IN|DT>+{      # Chink sequences of VBD, DT and IN\n",
    "        {<JJ>*<NN>}         # Chunk JJ NN phrases\n",
    "      ''')\n",
    "cp = nltk.RegexpParser(grammar)"
   ]
  },
  {
   "cell_type": "code",
   "execution_count": 103,
   "metadata": {},
   "outputs": [
    {
     "data": {
      "text/plain": [
       "['little yellow dog', 'cat']"
      ]
     },
     "execution_count": 103,
     "metadata": {},
     "output_type": "execute_result"
    }
   ],
   "source": [
    "psent = cp.parse(ptokens)\n",
    "[npstr for npstr in extract_np(psent)]"
   ]
  }
 ],
 "metadata": {
  "kernelspec": {
   "display_name": "Python 3",
   "language": "python",
   "name": "python3"
  },
  "language_info": {
   "codemirror_mode": {
    "name": "ipython",
    "version": 3
   },
   "file_extension": ".py",
   "mimetype": "text/x-python",
   "name": "python",
   "nbconvert_exporter": "python",
   "pygments_lexer": "ipython3",
   "version": "3.6.5"
  }
 },
 "nbformat": 4,
 "nbformat_minor": 2
}
